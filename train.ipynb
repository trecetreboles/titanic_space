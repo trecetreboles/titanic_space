
# Librerias básicas
import pandas as pd
import numpy as np

# Librerias de Visualización 
import pygwalker as pyg
import matplotlib.pyplot as plt
import seaborn as sns
import seaborn.objects as so
plt.style.use("seaborn")

#sklearn 
from sklearn.model_selection import train_test_split
from sklearn.preprocessing import MinMaxScaler
from sklearn.linear_model import LinearRegression
from sklearn.metrics import mean_absolute_error as mae
from sklearn.metrics import mean_squared_error as mse
from sklearn.metrics import r2_score as r2
from sklearn.neighbors import KNeighborsRegressor
from sklearn.linear_model import Ridge
from sklearn.ensemble import RandomForestRegressor

